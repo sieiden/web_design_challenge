{
 "cells": [
  {
   "cell_type": "code",
   "execution_count": 2,
   "metadata": {},
   "outputs": [],
   "source": [
    "#convert csv to html table using pandas\n",
    "import pandas as pd\n",
    "# to read csv file named \"samplee\"\n",
    "data = pd.read_csv(\"clean_cities_data_2.csv\")\n",
    "  \n",
    "# to save as html file\n",
    "# named as \"Table\"\n",
    "data.to_html(\"Table.htm\")\n",
    "  \n",
    "# assign it to a \n",
    "# variable (string)\n",
    "html_file = data.to_html()"
   ]
  }
 ],
 "metadata": {
  "kernelspec": {
   "display_name": "Python 3",
   "language": "python",
   "name": "python3"
  },
  "language_info": {
   "codemirror_mode": {
    "name": "ipython",
    "version": 3
   },
   "file_extension": ".py",
   "mimetype": "text/x-python",
   "name": "python",
   "nbconvert_exporter": "python",
   "pygments_lexer": "ipython3",
   "version": "3.8.5"
  }
 },
 "nbformat": 4,
 "nbformat_minor": 4
}
